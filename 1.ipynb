{
 "cells": [
  {
   "cell_type": "code",
   "execution_count": 14,
   "metadata": {},
   "outputs": [
    {
     "name": "stdout",
     "output_type": "stream",
     "text": [
      "{'id': 464, 'created': '2020-08-23T13:25:21+00:00', 'modified': '2022-06-26T15:22:36+00:00', 'operatorName': 'Kinch Buses', 'noc': ['KBUS'], 'name': 'Kinch Buses_Loughborough_Sileby_20220129', 'description': 'Timetable data for Kinchbus (KBUS) services.', 'comment': \"Line 2, SKY: Re-opening of St Margaret's Bus Station, Leicester.\\r\\nLine SP: Holiday timetable.\", 'status': 'published', 'url': 'https://data.bus-data.dft.gov.uk/timetable/dataset/464/download/', 'extension': 'zip', 'lines': ['11', '12', '2', '5', '9', 'CS', 'SKY', 'SP'], 'firstStartDate': '2022-01-29T00:00:00+00:00', 'firstEndDate': '2022-06-26T23:59:00+00:00', 'lastEndDate': '2022-06-26T23:59:00+00:00', 'adminAreas': [{'atco_code': '109', 'name': 'Derby'}, {'atco_code': '100', 'name': 'Derbyshire'}, {'atco_code': '269', 'name': 'Leicester'}, {'atco_code': '260', 'name': 'Leicestershire'}, {'atco_code': '339', 'name': 'Nottingham'}, {'atco_code': '330', 'name': 'Nottinghamshire'}], 'localities': [{'gazetteer_id': 'E0036808', 'name': 'Alvaston'}, {'gazetteer_id': 'E0047610', 'name': 'Barrow-upon-Soar'}, {'gazetteer_id': 'E0039039', 'name': 'Belgrave'}, {'gazetteer_id': 'E0047612', 'name': 'Birstall'}, {'gazetteer_id': 'E0050193', 'name': 'Bradmore'}, {'gazetteer_id': 'E0050194', 'name': 'Bunny'}, {'gazetteer_id': 'E0047787', 'name': 'Castle Donington'}, {'gazetteer_id': 'E0016837', 'name': 'Cavendish Bridge'}, {'gazetteer_id': 'E0047614', 'name': 'Cossington'}, {'gazetteer_id': 'E0050198', 'name': 'Costock'}, {'gazetteer_id': 'E0047615', 'name': 'Cotes'}, {'gazetteer_id': 'E0036816', 'name': 'Crewton'}, {'gazetteer_id': 'E0054915', 'name': 'Derby'}, {'gazetteer_id': 'E0016845', 'name': 'Diseworth'}, {'gazetteer_id': 'N0065278', 'name': 'East Mids Airport'}, {'gazetteer_id': 'N0081179', 'name': 'East Mids Gateway'}, {'gazetteer_id': 'E0047617', 'name': 'Hathern'}, {'gazetteer_id': 'E0047618', 'name': 'Hoton'}, {'gazetteer_id': 'E0016862', 'name': 'Kegworth'}, {'gazetteer_id': 'E0057189', 'name': 'Leicester'}, {'gazetteer_id': 'N0065027', 'name': 'Litchurch'}, {'gazetteer_id': 'E0047796', 'name': 'Long Whatton'}, {'gazetteer_id': 'E0016641', 'name': 'Loughborough'}, {'gazetteer_id': 'E0040140', 'name': 'Meadows'}, {'gazetteer_id': 'E0057221', 'name': 'Nottingham'}, {'gazetteer_id': 'E0016649', 'name': 'Quorn'}, {'gazetteer_id': 'E0050225', 'name': 'Rempstone'}, {'gazetteer_id': 'E0047626', 'name': 'Rothley'}, {'gazetteer_id': 'E0057610', 'name': 'Ruddington'}, {'gazetteer_id': 'N0078435', 'name': 'Ruddington Business Park'}, {'gazetteer_id': 'N0064917', 'name': 'Shardlow'}, {'gazetteer_id': 'E0047629', 'name': 'Sileby'}, {'gazetteer_id': 'E0007471', 'name': 'Thulston'}, {'gazetteer_id': 'E0020667', 'name': 'Trent Bridge'}, {'gazetteer_id': 'E0057611', 'name': 'West Bridgford'}, {'gazetteer_id': 'N0061130', 'name': 'Wilford Hill'}, {'gazetteer_id': 'E0036840', 'name': 'Wilmorton'}], 'dqScore': '100.0%', 'dqRag': 'green', 'bodsCompliance': True}\n"
     ]
    }
   ],
   "source": [
    "import requests\n",
    "\n",
    "\n",
    "r = requests.get('https://data.bus-data.dft.gov.uk/api/v1/dataset/464/?api_key=d1f53a1b0a343e6fd958bd713f5ed9d5c1114e0b')\n",
    "print(r.json())\n",
    "\n",
    "# url = 'https://data.bus-data.dft.gov.uk/timetable/dataset/464/download/'\n",
    "\n",
    "# r1 = requests.get(url)\n",
    "# open(\"data.zip\", \"wb\").write(r1.content)\n"
   ]
  },
  {
   "cell_type": "code",
   "execution_count": null,
   "metadata": {},
   "outputs": [],
   "source": [
    "import zipfile\n",
    "\n",
    "archive = zipfile.ZipFile('data.zip', 'r')\n",
    "files = archive.namelist()\n",
    "\n",
    "print(files)\n",
    "\n",
    "x = files[0]\n",
    "with archive.open(x, \"r\") as fi:\n",
    "    data = fi.read()\n",
    "    print(data)"
   ]
  },
  {
   "cell_type": "code",
   "execution_count": null,
   "metadata": {},
   "outputs": [],
   "source": [
    "import xml.dom.minidom\n",
    "\n",
    "xml_fname = archive.extract(x)\n",
    "\n",
    "dom = xml.dom.minidom.parse(xml_fname) # or xml.dom.minidom.parseString(xml_string)\n",
    "pretty_xml_as_string = dom.toprettyxml()\n",
    "print(pretty_xml_as_string)"
   ]
  }
 ],
 "metadata": {
  "kernelspec": {
   "display_name": "Python 3.10.4 64-bit",
   "language": "python",
   "name": "python3"
  },
  "language_info": {
   "codemirror_mode": {
    "name": "ipython",
    "version": 3
   },
   "file_extension": ".py",
   "mimetype": "text/x-python",
   "name": "python",
   "nbconvert_exporter": "python",
   "pygments_lexer": "ipython3",
   "version": "3.10.4"
  },
  "orig_nbformat": 4,
  "vscode": {
   "interpreter": {
    "hash": "26de051ba29f2982a8de78e945f0abaf191376122a1563185a90213a26c5da77"
   }
  }
 },
 "nbformat": 4,
 "nbformat_minor": 2
}
